{
 "cells": [
  {
   "cell_type": "markdown",
   "id": "fd79af7c",
   "metadata": {},
   "source": [
    "### Name: Muhammad Bilal Khan\n",
    "### Email: mbikhan@students.uit.edu\n",
    "### Whatsapp: 03363791297\n",
    "# Project for Python & Deep Learning Bootcamp"
   ]
  },
  {
   "cell_type": "code",
   "execution_count": 1,
   "id": "500a046e",
   "metadata": {},
   "outputs": [
    {
     "name": "stdout",
     "output_type": "stream",
     "text": [
      "Title: John Wick\n",
      "Storyline: John Wick, a retired hitman, is forced to return to his old ways after a group of Russian gangsters steal his car and kill a puppy gifted to him by his late wife.\n",
      "Release Date: 07-11-2014\n",
      "Rating: 7.4/10 IMDb\n",
      "Trailer URL: https://www.youtube.com/watch?v=C0BMx-qxsP4\n",
      "Director: Chad Stahelski\n",
      "Box Office: $86 million\n"
     ]
    }
   ],
   "source": [
    "import webbrowser\n",
    "class Movie:\n",
    "    def __init__(self, title, storyline, release_date, rating, youtube_url, director, box_office):\n",
    "        self.title = title\n",
    "        self.storyline = storyline\n",
    "        self.release_date = release_date\n",
    "        self.rating = rating\n",
    "        self.youtube_url = youtube_url\n",
    "        self.director = director\n",
    "        self.box_office = box_office\n",
    "\n",
    "    def show_trailer(self):\n",
    "        webbrowser.open(self.youtube_url)\n",
    "\n",
    "    def show_info(self):\n",
    "        print(\"Title: \" + self.title)\n",
    "        print(\"Storyline: \" + self.storyline)\n",
    "        print(\"Release Date: \" + self.release_date)\n",
    "        print(\"Rating: \" + self.rating)\n",
    "        print(\"Trailer URL: \" + self.youtube_url)\n",
    "        print(\"Director: \" + self.director)\n",
    "        print(\"Box Office: \" + self.box_office)\n",
    "\n",
    "# Create an instance of the Movie class\n",
    "movie = Movie(\"John Wick\", \"John Wick, a retired hitman, is forced to return to his old ways after a group of Russian gangsters steal his car and kill a puppy gifted to him by his late wife.\", \"07-11-2014\", \"7.4/10 IMDb\", \"https://www.youtube.com/watch?v=C0BMx-qxsP4\", \"Chad Stahelski\", \"$86 million\")\n",
    "\n",
    "# Call the methods to show trailer and movie information\n",
    "movie.show_trailer()\n",
    "movie.show_info()"
   ]
  },
  {
   "cell_type": "code",
   "execution_count": null,
   "id": "438912b9",
   "metadata": {},
   "outputs": [],
   "source": []
  }
 ],
 "metadata": {
  "kernelspec": {
   "display_name": "Python 3 (ipykernel)",
   "language": "python",
   "name": "python3"
  },
  "language_info": {
   "codemirror_mode": {
    "name": "ipython",
    "version": 3
   },
   "file_extension": ".py",
   "mimetype": "text/x-python",
   "name": "python",
   "nbconvert_exporter": "python",
   "pygments_lexer": "ipython3",
   "version": "3.9.13"
  }
 },
 "nbformat": 4,
 "nbformat_minor": 5
}
